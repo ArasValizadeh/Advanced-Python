{
 "cells": [
  {
   "cell_type": "markdown",
   "id": "8984dfb1-c400-4291-8dd7-255ba6f60e2e",
   "metadata": {},
   "source": [
    "# Advanced Python\n"
   ]
  },
  {
   "cell_type": "markdown",
   "id": "3c537fce-febd-4895-8850-0d6d9ae0870f",
   "metadata": {},
   "source": [
    "In the previous [chapter](https://github.com/ArasValizadeh/Introduction-to-Python), we covered the basics of Python. Now, we will move on to explore more advanced concepts in Python.\n",
    "\n",
    "### Array Methods\n",
    "\t•\tappend(): Adds an element to the end of the list.\n",
    "\t•\tinsert(): Inserts an element at a specific position.\n",
    "\t•\tremove(): Removes the first occurrence of a specified value.\n",
    "\t•\tpop(): Removes and returns the element at the given index.\n",
    "\t•\tindex(): Returns the index of the first occurrence of a specified value.\n",
    "\t•\tsort(): Sorts the list in ascending order.\n",
    "\t•\treverse(): Reverses the elements of the list.\n",
    "\t•\textend(): Adds all elements of an iterable (like another list) to the end of the list."
   ]
  },
  {
   "cell_type": "code",
   "execution_count": null,
   "id": "69f3165e-2292-47d6-9742-b73f992634aa",
   "metadata": {},
   "outputs": [],
   "source": [
    "# Initializing a list\n",
    "my_list = [10, 20, 30, 40]\n",
    "\n",
    "# Appending an element\n",
    "my_list.append(50)\n",
    "print(\"After append:\", my_list)  # Output: [10, 20, 30, 40, 50]\n",
    "\n",
    "# Inserting an element at index 2\n",
    "my_list.insert(2, 25)\n",
    "print(\"After insert:\", my_list)  # Output: [10, 20, 25, 30, 40, 50]\n",
    "\n",
    "# Removing the first occurrence of 25\n",
    "my_list.remove(25)\n",
    "print(\"After remove:\", my_list)  # Output: [10, 20, 30, 40, 50]\n",
    "\n",
    "# Popping the element at index 3\n",
    "popped_value = my_list.pop(3)\n",
    "print(\"After pop:\", my_list, \"| Popped value:\", popped_value)  # Output: [10, 20, 30, 50] | Popped value: 40\n",
    "\n",
    "# Finding the index of the first occurrence of 30\n",
    "index_of_30 = my_list.index(30)\n",
    "print(\"Index of 30:\", index_of_30)  # Output: 2\n",
    "\n",
    "# Sorting the list\n",
    "my_list.sort(reverse=True)\n",
    "print(\"After sort (descending):\", my_list)  # Output: [50, 30, 20, 10]\n",
    "\n",
    "# Reversing the list\n",
    "my_list.reverse()\n",
    "print(\"After reverse:\", my_list)  # Output: [10, 20, 30, 50]"
   ]
  },
  {
   "cell_type": "markdown",
   "id": "10e8abc5-ac0c-4236-9456-53bbf5ef583e",
   "metadata": {},
   "source": [
    "### Class and Objects\n",
    "\n",
    "Classes and objects are key concepts in Object-Oriented Programming (OOP), which is a programming paradigm that organizes code using objects, allowing for better structure, reusability, and modularity. Python supports OOP, and learning about classes and objects is crucial to understanding how to build more complex and efficient programs.\n",
    "\n",
    "What is a Class?\n",
    "\n",
    "A class is like a blueprint for creating objects. It defines a structure and behavior that the objects created from the class will have. A class bundles data (attributes) and functions (methods) that operate on that data. You can define multiple objects based on the same class.\n",
    "\n",
    "What is an Object?\n",
    "\n",
    "An object is an instance of a class. It represents a concrete example of the class with actual values for its attributes. Multiple objects can be created from the same class, each having its own distinct set of attribute values."
   ]
  },
  {
   "cell_type": "code",
   "execution_count": null,
   "id": "c922b1b1-70a3-405c-a4a7-d50c90915aee",
   "metadata": {},
   "outputs": [],
   "source": [
    "# Defining a class named Person\n",
    "class Person:\n",
    "    # Constructor: Initializes attributes when an object is created\n",
    "    def __init__(self, name, age):\n",
    "        self.name = name  # Attribute: name\n",
    "        self.age = age    # Attribute: age\n",
    "\n",
    "    # Method: Display person's info\n",
    "    def display_info(self):\n",
    "        print(f\"Name: {self.name}, Age: {self.age}\")\n",
    "\n",
    "# Creating an object of the Person class\n",
    "person1 = Person(\"Alice\", 30)\n",
    "person2 = Person(\"Bob\", 25)\n",
    "\n",
    "# Calling methods on the objects\n",
    "person1.display_info()  # Output: Name: Alice, Age: 30\n",
    "person2.display_info()  # Output: Name: Bob, Age: 25"
   ]
  },
  {
   "cell_type": "markdown",
   "id": "e3b99548-c53f-42ab-a2f5-90b1880cc39b",
   "metadata": {},
   "source": [
    "### The `__init__()` Method (Constructor)\n",
    "\n",
    "The `__init__()` method is a special method in Python, known as the constructor. It is automatically called when an object of the class is created, and it is used to initialize the object’s attributes.\n",
    "\n",
    "* self: The self parameter represents the instance of the class. It allows the method to access and modify the object’s attributes. It must be the first parameter in methods defined inside a class.\n"
   ]
  },
  {
   "cell_type": "code",
   "execution_count": null,
   "id": "e384d599-717a-4e42-a1ac-5aaf8451426a",
   "metadata": {},
   "outputs": [],
   "source": [
    "class Car:\n",
    "    def __init__(self, brand, model, year):\n",
    "        self.brand = brand\n",
    "        self.model = model\n",
    "        self.year = year\n",
    "    \n",
    "    def show_details(self):\n",
    "        print(f\"Car: {self.brand} {self.model}, Year: {self.year}\")\n",
    "\n",
    "# Creating an object of the Car class\n",
    "car1 = Car(\"Toyota\", \"Camry\", 2020)\n",
    "car1.show_details()  # Output: Car: Toyota Camry, Year: 2020"
   ]
  },
  {
   "cell_type": "markdown",
   "id": "18a2efce-9528-4adb-ad68-fe7c834f1534",
   "metadata": {},
   "source": [
    "### Inheritance in Python\n",
    "\n",
    "Inheritance allows you to define a class that inherits all the attributes and methods from another class. It promotes code reuse and can be used to create hierarchical class structures.\n",
    "\n",
    "* Base Class (Parent): The class being inherited from. \n",
    "* Derived Class (Child): The class that inherits from the base class."
   ]
  },
  {
   "cell_type": "code",
   "execution_count": null,
   "id": "09b5b40d-7354-4ae3-8c19-154124aa48e5",
   "metadata": {},
   "outputs": [],
   "source": [
    "# Base class\n",
    "class Animal:\n",
    "    def __init__(self, name):\n",
    "        self.name = name\n",
    "\n",
    "    def speak(self):\n",
    "        print(f\"{self.name} makes a sound.\")\n",
    "\n",
    "# Derived class\n",
    "class Dog(Animal):\n",
    "    def speak(self):\n",
    "        print(f\"{self.name} barks.\")\n",
    "\n",
    "# Creating objects of both classes\n",
    "animal = Animal(\"Generic Animal\")\n",
    "dog = Dog(\"Rex\")\n",
    "\n",
    "# Calling methods\n",
    "animal.speak()  # Output: Generic Animal makes a sound.\n",
    "dog.speak()     # Output: Rex barks."
   ]
  },
  {
   "cell_type": "markdown",
   "id": "6776bb24-a220-4857-a447-0baffca4e830",
   "metadata": {},
   "source": [
    "### Polymorphism \n",
    "\n",
    "Polymorphism allows objects of different classes to be treated as objects of a common base class. This means that you can call the same method on different objects, and it will behave differently based on the object type."
   ]
  },
  {
   "cell_type": "code",
   "execution_count": null,
   "id": "1aca2b90-20e4-4100-a65c-dc09fb40ed77",
   "metadata": {},
   "outputs": [],
   "source": [
    "class Bird:\n",
    "    def speak(self):\n",
    "        print(\"Bird chirps.\")\n",
    "\n",
    "class Dog:\n",
    "    def speak(self):\n",
    "        print(\"Dog barks.\")\n",
    "\n",
    "# A function that takes an object and calls its speak method\n",
    "def make_sound(animal):\n",
    "    animal.speak()\n",
    "\n",
    "# Using polymorphism\n",
    "bird = Bird()\n",
    "dog = Dog()\n",
    "\n",
    "make_sound(bird)  # Output: Bird chirps.\n",
    "make_sound(dog)   # Output: Dog barks."
   ]
  },
  {
   "cell_type": "markdown",
   "id": "04cd1bf4-b113-42b5-ac07-179a5fdcf1a5",
   "metadata": {},
   "source": [
    "## Matplotlib\n",
    "\n",
    "Matplotlib is one of the most widely used libraries in Python for data visualization. It allows you to create static, animated, and interactive visualizations in Python. With Matplotlib, you can generate plots, histograms, bar charts, scatter plots, and much more, making it an essential tool for data analysis and presentation."
   ]
  },
  {
   "cell_type": "markdown",
   "id": "a63ef318-764c-4ee7-ac56-8464c8dbba53",
   "metadata": {},
   "source": [
    "### Installation\n",
    "If you don’t have Matplotlib installed, you can install it using pip: `pip install matplotlib`"
   ]
  },
  {
   "cell_type": "markdown",
   "id": "eaf78c0f-cca3-48ca-8e7b-d360ccbfd99c",
   "metadata": {},
   "source": [
    "* Creating a Simple Plot\n",
    "  \n",
    "The simplest plot in Matplotlib is a line plot, which can be created by specifying the x and y data.\n"
   ]
  },
  {
   "cell_type": "code",
   "execution_count": null,
   "id": "201cb620-8e16-48b7-af28-259859e6cf15",
   "metadata": {},
   "outputs": [],
   "source": [
    "import matplotlib.pyplot as plt\n",
    "\n",
    "# Data\n",
    "x = [1, 2, 3, 4, 5]\n",
    "y = [1, 4, 9, 16, 25]\n",
    "\n",
    "# Create the plot\n",
    "plt.plot(x, y)\n",
    "\n",
    "# Add title and labels\n",
    "plt.title(\"Simple Line Plot\")\n",
    "plt.xlabel(\"X-axis\")\n",
    "plt.ylabel(\"Y-axis\")\n",
    "\n",
    "# Show the plot\n",
    "plt.show()"
   ]
  },
  {
   "cell_type": "markdown",
   "id": "5bbbe72e-c972-49e4-9a6c-8eec12592cb8",
   "metadata": {},
   "source": [
    "* Customizing Plots\n",
    "\n",
    "Matplotlib allows you to customize plots by changing colors, line styles, markers, and more."
   ]
  },
  {
   "cell_type": "code",
   "execution_count": null,
   "id": "22509f62-365a-4daa-9179-1ac1865ab184",
   "metadata": {},
   "outputs": [],
   "source": [
    "# Data\n",
    "x = [1, 2, 3, 4, 5]\n",
    "y = [1, 4, 9, 16, 25]\n",
    "\n",
    "# Plot with customization\n",
    "plt.plot(x, y, color='red', linestyle='--', marker='o', markersize=8)\n",
    "\n",
    "# Title and labels\n",
    "plt.title(\"Customized Line Plot\")\n",
    "plt.xlabel(\"X-axis\")\n",
    "plt.ylabel(\"Y-axis\")\n",
    "\n",
    "plt.show()"
   ]
  },
  {
   "cell_type": "markdown",
   "id": "cc6a8b5e-6b6a-432c-9923-5b50bd84ad08",
   "metadata": {},
   "source": [
    "* Adding Multiple Plots\n",
    "\n",
    "You can easily add multiple lines to a single plot by calling the `plot()` function multiple times."
   ]
  },
  {
   "cell_type": "code",
   "execution_count": null,
   "id": "b234a90d-7fb2-4b92-b83f-6653297ae249",
   "metadata": {},
   "outputs": [],
   "source": [
    "# Data\n",
    "x = [1, 2, 3, 4, 5]\n",
    "y1 = [1, 4, 9, 16, 25]\n",
    "y2 = [25, 16, 9, 4, 1]\n",
    "\n",
    "# Plot multiple lines\n",
    "plt.plot(x, y1, label=\"y = x^2\")\n",
    "plt.plot(x, y2, label=\"y = 25 - x^2\")\n",
    "\n",
    "# Add title, labels, and legend\n",
    "plt.title(\"Multiple Line Plot\")\n",
    "plt.xlabel(\"X-axis\")\n",
    "plt.ylabel(\"Y-axis\")\n",
    "plt.legend()  # Show the legend\n",
    "\n",
    "plt.show()"
   ]
  },
  {
   "cell_type": "markdown",
   "id": "82b4f536-4712-4f49-be77-8da6705f5316",
   "metadata": {},
   "source": [
    "* Bar Charts\n",
    "\n",
    "Bar charts are useful for comparing categories of data. In Matplotlib, you can create bar charts using the `bar()` function.\n"
   ]
  },
  {
   "cell_type": "code",
   "execution_count": null,
   "id": "c27d315b-3672-48a5-babb-7764e4e4fe9f",
   "metadata": {},
   "outputs": [],
   "source": [
    "# Data\n",
    "categories = ['A', 'B', 'C', 'D']\n",
    "values = [5, 7, 3, 8]\n",
    "\n",
    "# Create bar chart\n",
    "plt.bar(categories, values)\n",
    "\n",
    "# Title and labels\n",
    "plt.title(\"Bar Chart Example\")\n",
    "plt.xlabel(\"Categories\")\n",
    "plt.ylabel(\"Values\")\n",
    "\n",
    "plt.show()"
   ]
  },
  {
   "cell_type": "markdown",
   "id": "badf15b6-7f96-4a1a-a9ac-dc448ebc906c",
   "metadata": {},
   "source": [
    "* Scatter Plots\n",
    "\n",
    "Scatter plots are used to visualize relationships between two variables. You can create scatter plots using `scatter()`.\n"
   ]
  },
  {
   "cell_type": "code",
   "execution_count": null,
   "id": "8d242c50-87f7-4315-a0d6-8b4d8488ef1e",
   "metadata": {},
   "outputs": [],
   "source": [
    "# Data\n",
    "x = [1, 2, 3, 4, 5]\n",
    "y = [5, 7, 3, 8, 4]\n",
    "\n",
    "# Create scatter plot\n",
    "plt.scatter(x, y, color='blue')\n",
    "\n",
    "# Title and labels\n",
    "plt.title(\"Scatter Plot Example\")\n",
    "plt.xlabel(\"X-axis\")\n",
    "plt.ylabel(\"Y-axis\")\n",
    "\n",
    "plt.show()"
   ]
  },
  {
   "cell_type": "markdown",
   "id": "c9fc9707-b895-4395-aafe-d5b1b51a32a6",
   "metadata": {},
   "source": [
    "* Histograms\n",
    "\n",
    "A histogram is used to show the distribution of a set of data points. You can create a histogram using the `hist()` function.\n"
   ]
  },
  {
   "cell_type": "code",
   "execution_count": null,
   "id": "ca4e5234-5482-48eb-b886-8cb3184af9af",
   "metadata": {},
   "outputs": [],
   "source": [
    "import numpy as np\n",
    "\n",
    "# Generating random data\n",
    "data = np.random.randn(1000)\n",
    "\n",
    "# Create histogram\n",
    "plt.hist(data, bins=30, color='green')\n",
    "\n",
    "# Title and labels\n",
    "plt.title(\"Histogram Example\")\n",
    "plt.xlabel(\"Value\")\n",
    "plt.ylabel(\"Frequency\")\n",
    "\n",
    "plt.show()"
   ]
  },
  {
   "cell_type": "markdown",
   "id": "b13c0589-1000-4b22-bc79-b22921e013b9",
   "metadata": {},
   "source": [
    "* Subplots\n",
    "\n",
    "Subplots allow you to display multiple plots in a single figure. You can use `subplot()` to create multiple plots in one figure.\n"
   ]
  },
  {
   "cell_type": "code",
   "execution_count": null,
   "id": "6b6b4228-97e1-4ecf-bf2f-0aa1a0df97be",
   "metadata": {},
   "outputs": [],
   "source": [
    "# Data\n",
    "x = [1, 2, 3, 4, 5]\n",
    "y1 = [1, 4, 9, 16, 25]\n",
    "y2 = [25, 16, 9, 4, 1]\n",
    "\n",
    "# Create a 1x2 subplot (1 row, 2 columns)\n",
    "plt.subplot(1, 2, 1)\n",
    "plt.plot(x, y1, label=\"y = x^2\")\n",
    "plt.title(\"Plot 1\")\n",
    "\n",
    "plt.subplot(1, 2, 2)\n",
    "plt.plot(x, y2, label=\"y = 25 - x^2\", color='orange')\n",
    "plt.title(\"Plot 2\")\n",
    "\n",
    "plt.tight_layout()  # Adjust layout to prevent overlap\n",
    "plt.show()"
   ]
  },
  {
   "cell_type": "markdown",
   "id": "500e6d82-5c7e-46c7-b970-d5415490e9a8",
   "metadata": {},
   "source": [
    "* Pie Charts\n",
    "\n",
    "You can also create pie charts to represent categorical data visually."
   ]
  },
  {
   "cell_type": "code",
   "execution_count": null,
   "id": "92282bae-89b8-45de-b706-73f7d05946cb",
   "metadata": {},
   "outputs": [],
   "source": [
    "# Data\n",
    "labels = ['A', 'B', 'C', 'D']\n",
    "sizes = [15, 30, 45, 10]\n",
    "colors = ['gold', 'yellowgreen', 'lightcoral', 'lightskyblue']\n",
    "\n",
    "# Create pie chart\n",
    "plt.pie(sizes, labels=labels, colors=colors, autopct='%1.1f%%', shadow=True, startangle=140)\n",
    "\n",
    "plt.title(\"Pie Chart Example\")\n",
    "plt.show()"
   ]
  },
  {
   "cell_type": "markdown",
   "id": "9caf6375-5dfd-4f98-bba9-c5333828758c",
   "metadata": {},
   "source": [
    "* Customizing Axes and Grids\n",
    "\n",
    "You can also customize the appearance of axes and grids in your plots.\n"
   ]
  },
  {
   "cell_type": "code",
   "execution_count": null,
   "id": "7697d960-7d75-480e-a05d-53c5fdc43ed7",
   "metadata": {},
   "outputs": [],
   "source": [
    "# Data\n",
    "x = [1, 2, 3, 4, 5]\n",
    "y = [1, 4, 9, 16, 25]\n",
    "\n",
    "# Create plot with customized axes and grid\n",
    "plt.plot(x, y)\n",
    "plt.xlim(0, 6)  # Set x-axis limits\n",
    "plt.ylim(0, 30) # Set y-axis limits\n",
    "plt.grid(True)   # Show grid\n",
    "\n",
    "# Title and labels\n",
    "plt.title(\"Customized Axes and Grid\")\n",
    "plt.xlabel(\"X-axis\")\n",
    "plt.ylabel(\"Y-axis\")\n",
    "\n",
    "plt.show()"
   ]
  },
  {
   "cell_type": "markdown",
   "id": "f729d31a-0008-4a2b-a4ab-636023c0991d",
   "metadata": {},
   "source": [
    "## Common Marker Styles\n",
    "\n",
    "Here are some commonly used marker symbols in Matplotlib:\n",
    "\n",
    "* '.': Point\n",
    "* 'o': Circle\n",
    "* '^': Triangle up\n",
    "* 'v': Triangle down\n",
    "* 's': Square\n",
    "* 'D': Diamond\n",
    "* 'p': Pentagon\n",
    "* '*': Star"
   ]
  }
 ],
 "metadata": {
  "kernelspec": {
   "display_name": "Python 3 (ipykernel)",
   "language": "python",
   "name": "python3"
  },
  "language_info": {
   "codemirror_mode": {
    "name": "ipython",
    "version": 3
   },
   "file_extension": ".py",
   "mimetype": "text/x-python",
   "name": "python",
   "nbconvert_exporter": "python",
   "pygments_lexer": "ipython3",
   "version": "3.12.2"
  }
 },
 "nbformat": 4,
 "nbformat_minor": 5
}
